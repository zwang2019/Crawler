{
 "cells": [
  {
   "cell_type": "markdown",
   "metadata": {
    "collapsed": true,
    "pycharm": {
     "name": "#%% md\n"
    }
   },
   "source": [
    "# Web Spider for AFL Data\n",
    "#### Quick Start"
   ]
  },
  {
   "cell_type": "code",
   "execution_count": 1,
   "outputs": [],
   "source": [
    "# import libraries\n",
    "import requests\n",
    "from fake_useragent import UserAgent\n",
    "from time import sleep\n",
    "\n",
    "from bs4 import BeautifulSoup\n",
    "import re"
   ],
   "metadata": {
    "collapsed": false,
    "pycharm": {
     "name": "#%%\n"
    }
   }
  },
  {
   "cell_type": "code",
   "execution_count": 2,
   "outputs": [],
   "source": [
    "# Crawling Website\n",
    "url='https://afltables.com/afl/seas/2022.html'\n",
    "# Fake a user header\n",
    "headers = {'User-Agent': UserAgent().random}\n",
    "\n",
    "\n",
    "datas = requests.get(url=url, headers=headers)\n",
    "html = datas.text\n",
    "\n",
    "# For Loop crawling, time interval is demanded.\n",
    "sleep(1)"
   ],
   "metadata": {
    "collapsed": false,
    "pycharm": {
     "name": "#%%\n"
    }
   }
  },
  {
   "cell_type": "code",
   "execution_count": 3,
   "outputs": [],
   "source": [
    "soup = BeautifulSoup(html, 'lxml')\n"
   ],
   "metadata": {
    "collapsed": false,
    "pycharm": {
     "name": "#%%\n"
    }
   }
  },
  {
   "cell_type": "code",
   "execution_count": 4,
   "outputs": [],
   "source": [
    "# re_team_name = re.compile\n",
    "\n"
   ],
   "metadata": {
    "collapsed": false,
    "pycharm": {
     "name": "#%%\n"
    }
   }
  },
  {
   "cell_type": "code",
   "execution_count": 5,
   "outputs": [
    {
     "name": "stdout",
     "output_type": "stream",
     "text": [
      "Melbourne\n",
      "https://afltables.com/afl/teams/melbourne_idx.html\n",
      "<td width=\"16%\"><a href=\"../teams/melbourne_idx.html\">Melbourne</a></td>\n",
      "#########\n",
      "<td align=\"center\" nowrap=\"\" width=\"20%\"><tt>  4.5   6.6  10.8 14.13 </tt></td>\n",
      "#########\n",
      " 97\n",
      "<td align=\"center\" width=\"5%\"> 97</td>\n",
      "#########\n",
      "Wed 16-Mar-2022 7:10 PM Att: 58,002 Venue: M.C.G.\n",
      "<class 'str'>\n",
      "None\n",
      "<td>Wed 16-Mar-2022 7:10 PM <b>Att: </b>58,002 <b>Venue:</b> <a href=\"../venues/mcg.html\">M.C.G.</a></td>\n",
      "#########\n",
      "<td width=\"16%\"><a href=\"../teams/bullldogs_idx.html\">Western Bulldogs</a></td>\n",
      "#########\n",
      "<td align=\"center\" nowrap=\"\" width=\"20%\"><tt>  2.2   8.3   8.5  11.5 </tt></td>\n",
      "#########\n",
      "<td align=\"center\" width=\"5%\"> 71</td>\n",
      "#########\n",
      "<td><b>Melbourne</b> won by <b>26 pts </b>[<a href=\"../stats/games/2022/071120220316.html\">Match stats</a>]</td>\n",
      "#########\n",
      "$$$$$$$$$$$$$$$$$$$$$$$$$$$$$$$$$$$$$$$$\n",
      "Carlton\n",
      "https://afltables.com/afl/teams/carlton_idx.html\n",
      "<td width=\"16%\"><a href=\"../teams/carlton_idx.html\">Carlton</a></td>\n",
      "#########\n",
      "<td align=\"center\" nowrap=\"\" width=\"20%\"><tt>  1.3   5.9  7.12 14.17 </tt></td>\n",
      "#########\n",
      " 101\n",
      "<td align=\"center\" width=\"5%\"> 101</td>\n",
      "#########\n",
      "Thu 17-Mar-2022 7:25 PM Att: 72,179 Venue: M.C.G.\n",
      "<class 'str'>\n",
      "None\n",
      "<td>Thu 17-Mar-2022 7:25 PM <b>Att: </b>72,179 <b>Venue:</b> <a href=\"../venues/mcg.html\">M.C.G.</a></td>\n",
      "#########\n",
      "<td width=\"16%\"><a href=\"../teams/richmond_idx.html\">Richmond</a></td>\n",
      "#########\n",
      "<td align=\"center\" nowrap=\"\" width=\"20%\"><tt>  4.5   4.7  10.9 11.10 </tt></td>\n",
      "#########\n",
      "<td align=\"center\" width=\"5%\"> 76</td>\n",
      "#########\n",
      "<td><b>Carlton</b> won by <b>25 pts </b>[<a href=\"../stats/games/2022/031420220317.html\">Match stats</a>]</td>\n",
      "#########\n",
      "$$$$$$$$$$$$$$$$$$$$$$$$$$$$$$$$$$$$$$$$\n",
      "St Kilda\n",
      "https://afltables.com/afl/teams/stkilda_idx.html\n",
      "<td width=\"16%\"><a href=\"../teams/stkilda_idx.html\">St Kilda</a></td>\n",
      "#########\n",
      "<td align=\"center\" nowrap=\"\" width=\"20%\"><tt>  3.2   5.6  9.12 12.13 </tt></td>\n",
      "#########\n",
      " 85\n",
      "<td align=\"center\" width=\"5%\"> 85</td>\n",
      "#########\n",
      "Fri 18-Mar-2022 7:50 PM Att: 40,129 Venue: Docklands\n",
      "<class 'str'>\n",
      "None\n",
      "<td>Fri 18-Mar-2022 7:50 PM <b>Att: </b>40,129 <b>Venue:</b> <a href=\"../venues/docklands.html\">Docklands</a></td>\n",
      "#########\n",
      "<td width=\"16%\"><a href=\"../teams/collingwood_idx.html\">Collingwood</a></td>\n",
      "#########\n",
      "<td align=\"center\" nowrap=\"\" width=\"20%\"><tt>  4.5   7.9 10.11 15.12 </tt></td>\n",
      "#########\n",
      "<td align=\"center\" width=\"5%\"> 102</td>\n",
      "#########\n",
      "<td><b>Collingwood</b> won by <b>17 pts </b>[<a href=\"../stats/games/2022/041520220318.html\">Match stats</a>]</td>\n",
      "#########\n",
      "$$$$$$$$$$$$$$$$$$$$$$$$$$$$$$$$$$$$$$$$\n",
      "Geelong\n",
      "https://afltables.com/afl/teams/geelong_idx.html\n",
      "<td width=\"16%\"><a href=\"../teams/geelong_idx.html\">Geelong</a></td>\n",
      "#########\n",
      "<td align=\"center\" nowrap=\"\" width=\"20%\"><tt>  7.5  12.9 17.14 20.18 </tt></td>\n",
      "#########\n",
      " 138\n",
      "<td align=\"center\" width=\"5%\"> 138</td>\n",
      "#########\n",
      "Sat 19-Mar-2022 2:10 PM Att: 54,495 Venue: M.C.G.\n",
      "<class 'str'>\n",
      "None\n",
      "<td>Sat 19-Mar-2022 2:10 PM <b>Att: </b>54,495 <b>Venue:</b> <a href=\"../venues/mcg.html\">M.C.G.</a></td>\n",
      "#########\n",
      "<td width=\"16%\"><a href=\"../teams/essendon_idx.html\">Essendon</a></td>\n",
      "#########\n",
      "<td align=\"center\" nowrap=\"\" width=\"20%\"><tt>  2.1   3.3   6.3  11.6 </tt></td>\n",
      "#########\n",
      "<td align=\"center\" width=\"5%\"> 72</td>\n",
      "#########\n",
      "<td><b>Geelong</b> won by <b>66 pts </b>[<a href=\"../stats/games/2022/050920220319.html\">Match stats</a>]</td>\n",
      "#########\n",
      "$$$$$$$$$$$$$$$$$$$$$$$$$$$$$$$$$$$$$$$$\n",
      "Greater Western Sydney\n",
      "https://afltables.com/afl/teams/gws_idx.html\n",
      "<td width=\"16%\"><a href=\"../teams/gws_idx.html\">Greater Western Sydney</a></td>\n",
      "#########\n",
      "<td align=\"center\" nowrap=\"\" width=\"20%\"><tt>  5.3  10.7 12.10 13.14 </tt></td>\n",
      "#########\n",
      " 92\n",
      "<td align=\"center\" width=\"5%\"> 92</td>\n",
      "#########\n",
      "Sat 19-Mar-2022 5:10 PM Att: 25,572 Venue: Stadium Australia\n",
      "<class 'str'>\n",
      "None\n",
      "<td>Sat 19-Mar-2022 5:10 PM <b>Att: </b>25,572 <b>Venue:</b> <a href=\"../venues/stadium_australia.html\">Stadium Australia</a></td>\n",
      "#########\n",
      "<td width=\"16%\"><a href=\"../teams/swans_idx.html\">Sydney</a></td>\n",
      "#########\n",
      "<td align=\"center\" nowrap=\"\" width=\"20%\"><tt>  3.0   9.4  13.9 17.10 </tt></td>\n",
      "#########\n",
      "<td align=\"center\" width=\"5%\"> 112</td>\n",
      "#########\n",
      "<td><b>Sydney</b> won by <b>20 pts </b>[<a href=\"../stats/games/2022/162120220319.html\">Match stats</a>]</td>\n",
      "#########\n",
      "$$$$$$$$$$$$$$$$$$$$$$$$$$$$$$$$$$$$$$$$\n",
      "Brisbane Lions\n",
      "https://afltables.com/afl/teams/brisbanel_idx.html\n",
      "<td width=\"16%\"><a href=\"../teams/brisbanel_idx.html\">Brisbane Lions</a></td>\n",
      "#########\n",
      "<td align=\"center\" nowrap=\"\" width=\"20%\"><tt>  2.2   4.6  6.10 11.14 </tt></td>\n",
      "#########\n",
      " 80\n",
      "<td align=\"center\" width=\"5%\"> 80</td>\n",
      "#########\n",
      "Sat 19-Mar-2022 7:10 PM Att: 25,100 Venue: Gabba\n",
      "<class 'str'>\n",
      "None\n",
      "<td>Sat 19-Mar-2022 7:10 PM <b>Att: </b>25,100 <b>Venue:</b> <a href=\"../venues/gabba.html\">Gabba</a></td>\n",
      "#########\n",
      "<td width=\"16%\"><a href=\"../teams/padelaide_idx.html\">Port Adelaide</a></td>\n",
      "#########\n",
      "<td align=\"center\" nowrap=\"\" width=\"20%\"><tt>  1.1   5.4   9.7  10.9 </tt></td>\n",
      "#########\n",
      "<td align=\"center\" width=\"5%\"> 69</td>\n",
      "#########\n",
      "<td><b>Brisbane Lions</b> won by <b>11 pts </b>[<a href=\"../stats/games/2022/131920220319.html\">Match stats</a>]</td>\n",
      "#########\n",
      "$$$$$$$$$$$$$$$$$$$$$$$$$$$$$$$$$$$$$$$$\n",
      "Hawthorn\n",
      "https://afltables.com/afl/teams/hawthorn_idx.html\n",
      "<td width=\"16%\"><a href=\"../teams/hawthorn_idx.html\">Hawthorn</a></td>\n",
      "#########\n",
      "<td align=\"center\" nowrap=\"\" width=\"20%\"><tt>  2.4   4.7   7.9 11.12 </tt></td>\n",
      "#########\n",
      " 78\n",
      "<td align=\"center\" width=\"5%\"> 78</td>\n",
      "#########\n",
      "Sun 20-Mar-2022 1:10 PM Att: 38,297 Venue: M.C.G.\n",
      "<class 'str'>\n",
      "None\n",
      "<td>Sun 20-Mar-2022 1:10 PM <b>Att: </b>38,297 <b>Venue:</b> <a href=\"../venues/mcg.html\">M.C.G.</a></td>\n",
      "#########\n",
      "<td width=\"16%\"><a href=\"../teams/kangaroos_idx.html\">North Melbourne</a></td>\n",
      "#########\n",
      "<td align=\"center\" nowrap=\"\" width=\"20%\"><tt>  2.5   5.8   6.8  8.10 </tt></td>\n",
      "#########\n",
      "<td align=\"center\" width=\"5%\"> 58</td>\n",
      "#########\n",
      "<td><b>Hawthorn</b> won by <b>20 pts </b>[<a href=\"../stats/games/2022/101220220320.html\">Match stats</a>]</td>\n",
      "#########\n",
      "$$$$$$$$$$$$$$$$$$$$$$$$$$$$$$$$$$$$$$$$\n",
      "Adelaide\n",
      "https://afltables.com/afl/teams/adelaide_idx.html\n",
      "<td width=\"16%\"><a href=\"../teams/adelaide_idx.html\">Adelaide</a></td>\n",
      "#########\n",
      "<td align=\"center\" nowrap=\"\" width=\"20%\"><tt>  2.0   5.2  11.5 12.10 </tt></td>\n",
      "#########\n",
      " 82\n",
      "<td align=\"center\" width=\"5%\"> 82</td>\n",
      "#########\n",
      "Sun 20-Mar-2022 3:40 PM (4:10 PM) Att: 28,186 Venue: Adelaide Oval\n",
      "<class 'str'>\n",
      "None\n",
      "<td>Sun 20-Mar-2022 3:40 PM (4:10 PM) <b>Att: </b>28,186 <b>Venue:</b> <a href=\"../venues/adelaide_oval.html\">Adelaide Oval</a></td>\n",
      "#########\n",
      "<td width=\"16%\"><a href=\"../teams/fremantle_idx.html\">Fremantle</a></td>\n",
      "#########\n",
      "<td align=\"center\" nowrap=\"\" width=\"20%\"><tt>  4.5   8.9  8.13 11.17 </tt></td>\n",
      "#########\n",
      "<td align=\"center\" width=\"5%\"> 83</td>\n",
      "#########\n",
      "<td><b>Fremantle</b> won by <b>1 pt </b>[<a href=\"../stats/games/2022/010820220320.html\">Match stats</a>]</td>\n",
      "#########\n",
      "$$$$$$$$$$$$$$$$$$$$$$$$$$$$$$$$$$$$$$$$\n",
      "West Coast\n",
      "https://afltables.com/afl/teams/westcoast_idx.html\n",
      "<td width=\"16%\"><a href=\"../teams/westcoast_idx.html\">West Coast</a></td>\n",
      "#########\n",
      "<td align=\"center\" nowrap=\"\" width=\"20%\"><tt>  5.1   7.3  10.5  12.8 </tt></td>\n",
      "#########\n",
      " 80\n",
      "<td align=\"center\" width=\"5%\"> 80</td>\n",
      "#########\n",
      "Sun 20-Mar-2022 4:40 PM (6:40 PM) Att: 20,932 Venue: Perth Stadium\n",
      "<class 'str'>\n",
      "None\n",
      "<td>Sun 20-Mar-2022 4:40 PM (6:40 PM) <b>Att: </b>20,932 <b>Venue:</b> <a href=\"../venues/perth.html\">Perth Stadium</a></td>\n",
      "#########\n",
      "<td width=\"16%\"><a href=\"../teams/goldcoast_idx.html\">Gold Coast</a></td>\n",
      "#########\n",
      "<td align=\"center\" nowrap=\"\" width=\"20%\"><tt>  2.2   5.6  8.11 16.11 </tt></td>\n",
      "#########\n",
      "<td align=\"center\" width=\"5%\"> 107</td>\n",
      "#########\n",
      "<td><b>Gold Coast</b> won by <b>27 pts </b>[<a href=\"../stats/games/2022/182020220320.html\">Match stats</a>]</td>\n",
      "#########\n",
      "$$$$$$$$$$$$$$$$$$$$$$$$$$$$$$$$$$$$$$$$\n"
     ]
    }
   ],
   "source": [
    "games = soup.find_all('table', attrs={'style':'font: 12px Verdana;', 'width':\"100%\", 'border':\"1\"})\n",
    "\n",
    "for i in range(0,9):\n",
    "    tables = games[i].find_all('td')\n",
    "    for j in range(len(tables)):\n",
    "        if j == 0:\n",
    "\n",
    "            print(tables[j].text)\n",
    "            print('https://afltables.com/afl' + tables[j].find_all('a', href=True)[0]['href'][2:])\n",
    "\n",
    "\n",
    "        if j == 2:\n",
    "\n",
    "            print(tables[j].text)\n",
    "\n",
    "        if j == 3:\n",
    "\n",
    "            print(tables[j].text)\n",
    "            temp = tables[j].text\n",
    "            print(type(temp))\n",
    "\n",
    "            m = re.match(r'2', 'Wed 16-Mar-2022 7:10 PM Att: 58,002 Venue: M.C.G.')\n",
    "\n",
    "\n",
    "            print(m)\n",
    "\n",
    "\n",
    "        print(tables[j])\n",
    "        print('#########')\n",
    "    print('$$$$$$$$$$$$$$$$$$$$$$$$$$$$$$$$$$$$$$$$')\n"
   ],
   "metadata": {
    "collapsed": false,
    "pycharm": {
     "name": "#%%\n"
    }
   }
  },
  {
   "cell_type": "code",
   "execution_count": null,
   "outputs": [],
   "source": [],
   "metadata": {
    "collapsed": false,
    "pycharm": {
     "name": "#%%\n"
    }
   }
  },
  {
   "cell_type": "code",
   "execution_count": 42,
   "outputs": [
    {
     "ename": "AttributeError",
     "evalue": "'NoneType' object has no attribute 'span'",
     "output_type": "error",
     "traceback": [
      "\u001B[1;31m---------------------------------------------------------------------------\u001B[0m",
      "\u001B[1;31mAttributeError\u001B[0m                            Traceback (most recent call last)",
      "Input \u001B[1;32mIn [42]\u001B[0m, in \u001B[0;36m<cell line: 1>\u001B[1;34m()\u001B[0m\n\u001B[1;32m----> 1\u001B[0m m \u001B[38;5;241m=\u001B[39m \u001B[43mre\u001B[49m\u001B[38;5;241;43m.\u001B[39;49m\u001B[43mmatch\u001B[49m\u001B[43m(\u001B[49m\u001B[38;5;124;43mr\u001B[39;49m\u001B[38;5;124;43m'\u001B[39;49m\u001B[38;5;124;43m(\u001B[39;49m\u001B[38;5;124;43m\\\u001B[39;49m\u001B[38;5;124;43md)\u001B[39;49m\u001B[38;5;124;43m'\u001B[39;49m\u001B[43m,\u001B[49m\u001B[43m \u001B[49m\u001B[38;5;124;43m'\u001B[39;49m\u001B[38;5;124;43mWed 16-Mar-2022 7:10 PM Att: 58,002 Venue: M.C.G.\u001B[39;49m\u001B[38;5;124;43m'\u001B[39;49m\u001B[43m)\u001B[49m\u001B[38;5;241;43m.\u001B[39;49m\u001B[43mspan\u001B[49m()\n\u001B[0;32m      2\u001B[0m \u001B[38;5;28mprint\u001B[39m(m)\n\u001B[0;32m      3\u001B[0m \u001B[38;5;28mprint\u001B[39m(m\u001B[38;5;241m.\u001B[39mgroup())\n",
      "\u001B[1;31mAttributeError\u001B[0m: 'NoneType' object has no attribute 'span'"
     ]
    }
   ],
   "source": [
    "m = re.match(r'(\\d)', 'Wed 16-Mar-2022 7:10 PM Att: 58,002 Venue: M.C.G.').span()\n",
    "print(m)\n",
    "print(m.group())"
   ],
   "metadata": {
    "collapsed": false,
    "pycharm": {
     "name": "#%%\n"
    }
   }
  },
  {
   "cell_type": "code",
   "execution_count": 50,
   "outputs": [
    {
     "name": "stdout",
     "output_type": "stream",
     "text": [
      "(0, 3)\n",
      "0\n",
      "3\n"
     ]
    }
   ],
   "source": [
    "m = re.match('www', 'www.runoob.com').span()\n",
    "\n",
    "print(m)\n",
    "\n",
    "for x in m:\n",
    "    print(x)"
   ],
   "metadata": {
    "collapsed": false,
    "pycharm": {
     "name": "#%%\n"
    }
   }
  },
  {
   "cell_type": "code",
   "execution_count": 46,
   "outputs": [
    {
     "name": "stdout",
     "output_type": "stream",
     "text": [
      "(0, 3)\n"
     ]
    },
    {
     "ename": "AttributeError",
     "evalue": "'NoneType' object has no attribute 'span'",
     "output_type": "error",
     "traceback": [
      "\u001B[1;31m---------------------------------------------------------------------------\u001B[0m",
      "\u001B[1;31mAttributeError\u001B[0m                            Traceback (most recent call last)",
      "Input \u001B[1;32mIn [46]\u001B[0m, in \u001B[0;36m<cell line: 7>\u001B[1;34m()\u001B[0m\n\u001B[0;32m      5\u001B[0m \u001B[38;5;28;01mimport\u001B[39;00m \u001B[38;5;21;01mre\u001B[39;00m\n\u001B[0;32m      6\u001B[0m \u001B[38;5;28mprint\u001B[39m(re\u001B[38;5;241m.\u001B[39mmatch(\u001B[38;5;124m'\u001B[39m\u001B[38;5;124mwww\u001B[39m\u001B[38;5;124m'\u001B[39m, \u001B[38;5;124m'\u001B[39m\u001B[38;5;124mwww.runoob.com\u001B[39m\u001B[38;5;124m'\u001B[39m)\u001B[38;5;241m.\u001B[39mspan())  \u001B[38;5;66;03m# 在起始位置匹配\u001B[39;00m\n\u001B[1;32m----> 7\u001B[0m \u001B[38;5;28mprint\u001B[39m(\u001B[43mre\u001B[49m\u001B[38;5;241;43m.\u001B[39;49m\u001B[43mmatch\u001B[49m\u001B[43m(\u001B[49m\u001B[38;5;124;43m'\u001B[39;49m\u001B[38;5;124;43mcom\u001B[39;49m\u001B[38;5;124;43m'\u001B[39;49m\u001B[43m,\u001B[49m\u001B[43m \u001B[49m\u001B[38;5;124;43m'\u001B[39;49m\u001B[38;5;124;43mwww.runoob.com\u001B[39;49m\u001B[38;5;124;43m'\u001B[39;49m\u001B[43m)\u001B[49m\u001B[38;5;241;43m.\u001B[39;49m\u001B[43mspan\u001B[49m())\n",
      "\u001B[1;31mAttributeError\u001B[0m: 'NoneType' object has no attribute 'span'"
     ]
    }
   ],
   "source": [
    "import re\n",
    "\n",
    "#!/usr/bin/python\n",
    "\n",
    "import re\n",
    "print(re.match('www', 'www.runoob.com').span())  # 在起始位置匹配\n",
    "print(re.match('com', 'www.runoob.com'))         # 不在起始位置匹配"
   ],
   "metadata": {
    "collapsed": false,
    "pycharm": {
     "name": "#%%\n"
    }
   }
  },
  {
   "cell_type": "code",
   "execution_count": 6,
   "outputs": [],
   "source": [
    "# Melbourne\n",
    "#contentpagecell > table > tbody > tr > td:nth-child(1) > table > tbody > tr:nth-child(3) > td > table > tbody > tr:nth-child(3) > td:nth-child(3) > table > tbody > tr:nth-child(2) > td.ylwbg > table > tbody > tr:nth-child(1) > td:nth-child(1) > a"
   ],
   "metadata": {
    "collapsed": false,
    "pycharm": {
     "name": "#%%\n"
    }
   }
  },
  {
   "cell_type": "code",
   "execution_count": 7,
   "outputs": [],
   "source": [
    "# 97\n",
    "#contentpagecell > table > tbody > tr > td:nth-child(1) > table > tbody > tr:nth-child(3) > td > table > tbody > tr:nth-child(3) > td:nth-child(3) > table > tbody > tr:nth-child(2) > td.ylwbg > table > tbody > tr:nth-child(1) > td:nth-child(2) > b"
   ],
   "metadata": {
    "collapsed": false,
    "pycharm": {
     "name": "#%%\n"
    }
   }
  },
  {
   "cell_type": "code",
   "execution_count": 8,
   "outputs": [],
   "source": [
    "# Western Bulldogs\n",
    "#contentpagecell > table > tbody > tr > td:nth-child(1) > table > tbody > tr:nth-child(3) > td > table > tbody > tr:nth-child(3) > td:nth-child(3) > table > tbody > tr:nth-child(2) > td.ylwbg > table > tbody > tr:nth-child(1) > td:nth-child(4) > a"
   ],
   "metadata": {
    "collapsed": false,
    "pycharm": {
     "name": "#%%\n"
    }
   }
  },
  {
   "cell_type": "code",
   "execution_count": 9,
   "outputs": [],
   "source": [
    "# 71\n",
    "#contentpagecell > table > tbody > tr > td:nth-child(1) > table > tbody > tr:nth-child(3) > td > table > tbody > tr:nth-child(3) > td:nth-child(3) > table > tbody > tr:nth-child(2) > td.ylwbg > table > tbody > tr:nth-child(1) > td:nth-child(5) > b"
   ],
   "metadata": {
    "collapsed": false,
    "pycharm": {
     "name": "#%%\n"
    }
   }
  },
  {
   "cell_type": "code",
   "execution_count": 10,
   "outputs": [],
   "source": [
    "# MCG\n",
    "#contentpagecell > table > tbody > tr > td:nth-child(1) > table > tbody > tr:nth-child(3) > td > table > tbody > tr:nth-child(3) > td:nth-child(3) > table > tbody > tr:nth-child(2) > td.ylwbg > table > tbody > tr:nth-child(1) > td:nth-child(7)"
   ],
   "metadata": {
    "collapsed": false,
    "pycharm": {
     "name": "#%%\n"
    }
   }
  },
  {
   "cell_type": "code",
   "execution_count": 11,
   "outputs": [],
   "source": [
    "# Date\n",
    "#contentpagecell > table > tbody > tr > td:nth-child(1) > table > tbody > tr:nth-child(3) > td > table > tbody > tr:nth-child(3) > td:nth-child(3) > table > tbody > tr:nth-child(2) > td.ylwbg > table > tbody > tr:nth-child(3) > td"
   ],
   "metadata": {
    "collapsed": false,
    "pycharm": {
     "name": "#%%\n"
    }
   }
  },
  {
   "cell_type": "code",
   "execution_count": 12,
   "outputs": [],
   "source": [
    "# stats\n",
    "#contentpagecell > table > tbody > tr > td:nth-child(1) > table > tbody > tr:nth-child(3) > td > table > tbody > tr:nth-child(3) > td:nth-child(3) > table > tbody > tr:nth-child(2) > td.ylwbg > table > tbody > tr:nth-child(3) > td > a:nth-child(1)"
   ],
   "metadata": {
    "collapsed": false,
    "pycharm": {
     "name": "#%%\n"
    }
   }
  },
  {
   "cell_type": "code",
   "execution_count": 13,
   "outputs": [],
   "source": [
    "# Carlton\n",
    "#contentpagecell > table > tbody > tr > td:nth-child(1) > table > tbody > tr:nth-child(3) > td > table > tbody > tr:nth-child(5) > td:nth-child(3) > table > tbody > tr:nth-child(2) > td.ylwbg > table > tbody > tr:nth-child(1) > td:nth-child(1) > a"
   ],
   "metadata": {
    "collapsed": false,
    "pycharm": {
     "name": "#%%\n"
    }
   }
  },
  {
   "cell_type": "code",
   "execution_count": 14,
   "outputs": [],
   "source": [
    "# St Kiilda\n",
    "#contentpagecell > table > tbody > tr > td:nth-child(1) > table > tbody > tr:nth-child(3) > td > table > tbody > tr:nth-child(7) > td:nth-child(3) > table > tbody > tr:nth-child(2) > td.ylwbg > table > tbody > tr:nth-child(1) > td:nth-child(1) > a"
   ],
   "metadata": {
    "collapsed": false,
    "pycharm": {
     "name": "#%%\n"
    }
   }
  },
  {
   "cell_type": "code",
   "execution_count": 14,
   "outputs": [],
   "source": [],
   "metadata": {
    "collapsed": false,
    "pycharm": {
     "name": "#%%\n"
    }
   }
  }
 ],
 "metadata": {
  "kernelspec": {
   "display_name": "Python 3",
   "language": "python",
   "name": "python3"
  },
  "language_info": {
   "codemirror_mode": {
    "name": "ipython",
    "version": 2
   },
   "file_extension": ".py",
   "mimetype": "text/x-python",
   "name": "python",
   "nbconvert_exporter": "python",
   "pygments_lexer": "ipython2",
   "version": "2.7.6"
  }
 },
 "nbformat": 4,
 "nbformat_minor": 0
}