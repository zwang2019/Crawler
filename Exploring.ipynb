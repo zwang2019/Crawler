{
 "cells": [
  {
   "cell_type": "markdown",
   "metadata": {
    "collapsed": true,
    "pycharm": {
     "name": "#%% md\n"
    }
   },
   "source": [
    "# Web Spider for AFL Data\n",
    "#### Quick Start"
   ]
  },
  {
   "cell_type": "code",
   "execution_count": 51,
   "metadata": {
    "pycharm": {
     "name": "#%%\n"
    }
   },
   "outputs": [],
   "source": [
    "# import libraries\n",
    "import pandas as pd\n",
    "import requests\n",
    "from fake_useragent import UserAgent\n",
    "from time import sleep\n",
    "import random\n",
    "\n",
    "from IPython.core.display_functions import display\n",
    "\n",
    "from bs4 import BeautifulSoup\n",
    "import re\n",
    "\n",
    "import warnings\n",
    "from tqdm import tqdm"
   ]
  },
  {
   "cell_type": "code",
   "execution_count": 52,
   "outputs": [],
   "source": [
    "# Supresses scientific notation\n",
    "pd.set_option('display.float_format', lambda x: '%.2f' % x)\n",
    "# display the full tables\n",
    "pd.set_option('display.max_columns', None)\n",
    "pd.set_option('display.max_rows', None)\n",
    "\n",
    "warnings.filterwarnings('ignore')\n",
    "\n",
    "debug = True\n",
    "random.seed(666)"
   ],
   "metadata": {
    "collapsed": false,
    "pycharm": {
     "name": "#%%\n"
    }
   }
  },
  {
   "cell_type": "code",
   "execution_count": 3,
   "outputs": [],
   "source": [
    "# Query and Insert the old database !\n",
    "games = pd.read_csv(r'./data/games.csv')\n",
    "players = pd.read_csv(r'./data/players.csv')\n",
    "stats = pd.read_csv(r'./data/stats.csv')"
   ],
   "metadata": {
    "collapsed": false,
    "pycharm": {
     "name": "#%%\n"
    }
   }
  },
  {
   "cell_type": "code",
   "execution_count": 4,
   "outputs": [
    {
     "data": {
      "text/plain": "     gameId  year round         date          venue startTime  attendance  \\\n0  2021R101  2021    R1  18-Mar-2021         M.C.G.   7:25 PM       49218   \n1  2021R102  2021    R1  19-Mar-2021         M.C.G.   7:50 PM       46051   \n2  2021R103  2021    R1  20-Mar-2021         M.C.G.   1:45 PM       21365   \n3  2021R104  2021    R1  20-Mar-2021  Adelaide Oval   4:05 PM       26985   \n4  2021R105  2021    R1  20-Mar-2021      Docklands   7:25 PM       25128   \n\n      homeTeam  homeTeamScore          awayTeam  awayTeamScore  rainfall  \n0     Richmond            105           Carlton             80      0.00  \n1  Collingwood             53  Western Bulldogs             69      0.00  \n2    Melbourne             80         Fremantle             58      0.00  \n3     Adelaide            103           Geelong             91      0.00  \n4     Essendon             91          Hawthorn             92      0.00  ",
      "text/html": "<div>\n<style scoped>\n    .dataframe tbody tr th:only-of-type {\n        vertical-align: middle;\n    }\n\n    .dataframe tbody tr th {\n        vertical-align: top;\n    }\n\n    .dataframe thead th {\n        text-align: right;\n    }\n</style>\n<table border=\"1\" class=\"dataframe\">\n  <thead>\n    <tr style=\"text-align: right;\">\n      <th></th>\n      <th>gameId</th>\n      <th>year</th>\n      <th>round</th>\n      <th>date</th>\n      <th>venue</th>\n      <th>startTime</th>\n      <th>attendance</th>\n      <th>homeTeam</th>\n      <th>homeTeamScore</th>\n      <th>awayTeam</th>\n      <th>awayTeamScore</th>\n      <th>rainfall</th>\n    </tr>\n  </thead>\n  <tbody>\n    <tr>\n      <th>0</th>\n      <td>2021R101</td>\n      <td>2021</td>\n      <td>R1</td>\n      <td>18-Mar-2021</td>\n      <td>M.C.G.</td>\n      <td>7:25 PM</td>\n      <td>49218</td>\n      <td>Richmond</td>\n      <td>105</td>\n      <td>Carlton</td>\n      <td>80</td>\n      <td>0.00</td>\n    </tr>\n    <tr>\n      <th>1</th>\n      <td>2021R102</td>\n      <td>2021</td>\n      <td>R1</td>\n      <td>19-Mar-2021</td>\n      <td>M.C.G.</td>\n      <td>7:50 PM</td>\n      <td>46051</td>\n      <td>Collingwood</td>\n      <td>53</td>\n      <td>Western Bulldogs</td>\n      <td>69</td>\n      <td>0.00</td>\n    </tr>\n    <tr>\n      <th>2</th>\n      <td>2021R103</td>\n      <td>2021</td>\n      <td>R1</td>\n      <td>20-Mar-2021</td>\n      <td>M.C.G.</td>\n      <td>1:45 PM</td>\n      <td>21365</td>\n      <td>Melbourne</td>\n      <td>80</td>\n      <td>Fremantle</td>\n      <td>58</td>\n      <td>0.00</td>\n    </tr>\n    <tr>\n      <th>3</th>\n      <td>2021R104</td>\n      <td>2021</td>\n      <td>R1</td>\n      <td>20-Mar-2021</td>\n      <td>Adelaide Oval</td>\n      <td>4:05 PM</td>\n      <td>26985</td>\n      <td>Adelaide</td>\n      <td>103</td>\n      <td>Geelong</td>\n      <td>91</td>\n      <td>0.00</td>\n    </tr>\n    <tr>\n      <th>4</th>\n      <td>2021R105</td>\n      <td>2021</td>\n      <td>R1</td>\n      <td>20-Mar-2021</td>\n      <td>Docklands</td>\n      <td>7:25 PM</td>\n      <td>25128</td>\n      <td>Essendon</td>\n      <td>91</td>\n      <td>Hawthorn</td>\n      <td>92</td>\n      <td>0.00</td>\n    </tr>\n  </tbody>\n</table>\n</div>"
     },
     "metadata": {},
     "output_type": "display_data"
    }
   ],
   "source": [
    "if debug is True:\n",
    "    display(games.head())"
   ],
   "metadata": {
    "collapsed": false,
    "pycharm": {
     "name": "#%%\n"
    }
   }
  },
  {
   "cell_type": "code",
   "execution_count": 5,
   "outputs": [
    {
     "data": {
      "text/plain": "     playerId    displayName  height  weight          dob           position  \\\n0  2021661124     Berry, Sam     181      81  12-Feb-2002  Midfield, Forward   \n1  2012662083    Brown, Luke     181      81  22-Sep-1992           Defender   \n2  2020665315  Butts, Jordon     198      83  31-Dec-1999           Defender   \n3  2021678665  Cook, Brayden     189      80  18-Jul-2002  Midfield, Forward   \n4  2019683521     Davis, Ben     187      85  19-May-1997            Forward   \n\n               origin  \n0     Gippsland Power  \n1             Norwood  \n2  Murray Bushrangers  \n3      South Adelaide  \n4                UNSW  ",
      "text/html": "<div>\n<style scoped>\n    .dataframe tbody tr th:only-of-type {\n        vertical-align: middle;\n    }\n\n    .dataframe tbody tr th {\n        vertical-align: top;\n    }\n\n    .dataframe thead th {\n        text-align: right;\n    }\n</style>\n<table border=\"1\" class=\"dataframe\">\n  <thead>\n    <tr style=\"text-align: right;\">\n      <th></th>\n      <th>playerId</th>\n      <th>displayName</th>\n      <th>height</th>\n      <th>weight</th>\n      <th>dob</th>\n      <th>position</th>\n      <th>origin</th>\n    </tr>\n  </thead>\n  <tbody>\n    <tr>\n      <th>0</th>\n      <td>2021661124</td>\n      <td>Berry, Sam</td>\n      <td>181</td>\n      <td>81</td>\n      <td>12-Feb-2002</td>\n      <td>Midfield, Forward</td>\n      <td>Gippsland Power</td>\n    </tr>\n    <tr>\n      <th>1</th>\n      <td>2012662083</td>\n      <td>Brown, Luke</td>\n      <td>181</td>\n      <td>81</td>\n      <td>22-Sep-1992</td>\n      <td>Defender</td>\n      <td>Norwood</td>\n    </tr>\n    <tr>\n      <th>2</th>\n      <td>2020665315</td>\n      <td>Butts, Jordon</td>\n      <td>198</td>\n      <td>83</td>\n      <td>31-Dec-1999</td>\n      <td>Defender</td>\n      <td>Murray Bushrangers</td>\n    </tr>\n    <tr>\n      <th>3</th>\n      <td>2021678665</td>\n      <td>Cook, Brayden</td>\n      <td>189</td>\n      <td>80</td>\n      <td>18-Jul-2002</td>\n      <td>Midfield, Forward</td>\n      <td>South Adelaide</td>\n    </tr>\n    <tr>\n      <th>4</th>\n      <td>2019683521</td>\n      <td>Davis, Ben</td>\n      <td>187</td>\n      <td>85</td>\n      <td>19-May-1997</td>\n      <td>Forward</td>\n      <td>UNSW</td>\n    </tr>\n  </tbody>\n</table>\n</div>"
     },
     "metadata": {},
     "output_type": "display_data"
    }
   ],
   "source": [
    "if debug is True:\n",
    "    display(players.head())"
   ],
   "metadata": {
    "collapsed": false,
    "pycharm": {
     "name": "#%%\n"
    }
   }
  },
  {
   "cell_type": "code",
   "execution_count": 6,
   "outputs": [
    {
     "data": {
      "text/plain": "     gameId      team  year round    playerId      displayName  gameNumber  \\\n0  2021R104  Adelaide  2021    R1  2021661124       Berry, Sam           1   \n1  2021R104  Adelaide  2021    R1  2012662083      Brown, Luke         168   \n2  2021R104  Adelaide  2021    R1  2020665315    Butts, Jordon           3   \n3  2021R104  Adelaide  2021    R1  2018689604      Doedee, Tom          31   \n4  2021R104  Adelaide  2021    R1  2018703883  Frampton, Billy           9   \n\n   Disposals  Kicks  Marks  Handballs  Goals  Behinds  Hit Outs  Tackles  \\\n0          8      6      1          2      0        1         0        7   \n1          5      2      0          3      0        0         0        2   \n2         10      5      3          5      0        0         0        0   \n3         13      9      4          4      0        0         0        4   \n4         14     10      8          4      2        2         7        0   \n\n   Rebounds  Inside 50s  Clearances  Clangers  Frees  Frees Against  \\\n0         0           2           3         2      2              2   \n1         0           0           0         0      1              0   \n2         5           0           0         3      1              0   \n3         5           1           1         0      2              0   \n4         2           0           0         1      0              0   \n\n   Brownlow Votes  Contested Possessions  Uncontested Possessions  \\\n0               0                      4                        5   \n1               0                      2                        3   \n2               0                      5                        5   \n3               0                      8                        6   \n4               0                      5                        9   \n\n   Contested Marks  Marks Inside 50  One Percenters  Bounces  Goal Assists  \\\n0                0                0               0        0             1   \n1                0                0               0        0             0   \n2                1                0               8        0             0   \n3                0                0               7        0             0   \n4                3                4               2        0             0   \n\n   % Played Subs  \n0        80    -  \n1        23  Off  \n2        93    -  \n3        84    -  \n4        90    -  ",
      "text/html": "<div>\n<style scoped>\n    .dataframe tbody tr th:only-of-type {\n        vertical-align: middle;\n    }\n\n    .dataframe tbody tr th {\n        vertical-align: top;\n    }\n\n    .dataframe thead th {\n        text-align: right;\n    }\n</style>\n<table border=\"1\" class=\"dataframe\">\n  <thead>\n    <tr style=\"text-align: right;\">\n      <th></th>\n      <th>gameId</th>\n      <th>team</th>\n      <th>year</th>\n      <th>round</th>\n      <th>playerId</th>\n      <th>displayName</th>\n      <th>gameNumber</th>\n      <th>Disposals</th>\n      <th>Kicks</th>\n      <th>Marks</th>\n      <th>Handballs</th>\n      <th>Goals</th>\n      <th>Behinds</th>\n      <th>Hit Outs</th>\n      <th>Tackles</th>\n      <th>Rebounds</th>\n      <th>Inside 50s</th>\n      <th>Clearances</th>\n      <th>Clangers</th>\n      <th>Frees</th>\n      <th>Frees Against</th>\n      <th>Brownlow Votes</th>\n      <th>Contested Possessions</th>\n      <th>Uncontested Possessions</th>\n      <th>Contested Marks</th>\n      <th>Marks Inside 50</th>\n      <th>One Percenters</th>\n      <th>Bounces</th>\n      <th>Goal Assists</th>\n      <th>% Played</th>\n      <th>Subs</th>\n    </tr>\n  </thead>\n  <tbody>\n    <tr>\n      <th>0</th>\n      <td>2021R104</td>\n      <td>Adelaide</td>\n      <td>2021</td>\n      <td>R1</td>\n      <td>2021661124</td>\n      <td>Berry, Sam</td>\n      <td>1</td>\n      <td>8</td>\n      <td>6</td>\n      <td>1</td>\n      <td>2</td>\n      <td>0</td>\n      <td>1</td>\n      <td>0</td>\n      <td>7</td>\n      <td>0</td>\n      <td>2</td>\n      <td>3</td>\n      <td>2</td>\n      <td>2</td>\n      <td>2</td>\n      <td>0</td>\n      <td>4</td>\n      <td>5</td>\n      <td>0</td>\n      <td>0</td>\n      <td>0</td>\n      <td>0</td>\n      <td>1</td>\n      <td>80</td>\n      <td>-</td>\n    </tr>\n    <tr>\n      <th>1</th>\n      <td>2021R104</td>\n      <td>Adelaide</td>\n      <td>2021</td>\n      <td>R1</td>\n      <td>2012662083</td>\n      <td>Brown, Luke</td>\n      <td>168</td>\n      <td>5</td>\n      <td>2</td>\n      <td>0</td>\n      <td>3</td>\n      <td>0</td>\n      <td>0</td>\n      <td>0</td>\n      <td>2</td>\n      <td>0</td>\n      <td>0</td>\n      <td>0</td>\n      <td>0</td>\n      <td>1</td>\n      <td>0</td>\n      <td>0</td>\n      <td>2</td>\n      <td>3</td>\n      <td>0</td>\n      <td>0</td>\n      <td>0</td>\n      <td>0</td>\n      <td>0</td>\n      <td>23</td>\n      <td>Off</td>\n    </tr>\n    <tr>\n      <th>2</th>\n      <td>2021R104</td>\n      <td>Adelaide</td>\n      <td>2021</td>\n      <td>R1</td>\n      <td>2020665315</td>\n      <td>Butts, Jordon</td>\n      <td>3</td>\n      <td>10</td>\n      <td>5</td>\n      <td>3</td>\n      <td>5</td>\n      <td>0</td>\n      <td>0</td>\n      <td>0</td>\n      <td>0</td>\n      <td>5</td>\n      <td>0</td>\n      <td>0</td>\n      <td>3</td>\n      <td>1</td>\n      <td>0</td>\n      <td>0</td>\n      <td>5</td>\n      <td>5</td>\n      <td>1</td>\n      <td>0</td>\n      <td>8</td>\n      <td>0</td>\n      <td>0</td>\n      <td>93</td>\n      <td>-</td>\n    </tr>\n    <tr>\n      <th>3</th>\n      <td>2021R104</td>\n      <td>Adelaide</td>\n      <td>2021</td>\n      <td>R1</td>\n      <td>2018689604</td>\n      <td>Doedee, Tom</td>\n      <td>31</td>\n      <td>13</td>\n      <td>9</td>\n      <td>4</td>\n      <td>4</td>\n      <td>0</td>\n      <td>0</td>\n      <td>0</td>\n      <td>4</td>\n      <td>5</td>\n      <td>1</td>\n      <td>1</td>\n      <td>0</td>\n      <td>2</td>\n      <td>0</td>\n      <td>0</td>\n      <td>8</td>\n      <td>6</td>\n      <td>0</td>\n      <td>0</td>\n      <td>7</td>\n      <td>0</td>\n      <td>0</td>\n      <td>84</td>\n      <td>-</td>\n    </tr>\n    <tr>\n      <th>4</th>\n      <td>2021R104</td>\n      <td>Adelaide</td>\n      <td>2021</td>\n      <td>R1</td>\n      <td>2018703883</td>\n      <td>Frampton, Billy</td>\n      <td>9</td>\n      <td>14</td>\n      <td>10</td>\n      <td>8</td>\n      <td>4</td>\n      <td>2</td>\n      <td>2</td>\n      <td>7</td>\n      <td>0</td>\n      <td>2</td>\n      <td>0</td>\n      <td>0</td>\n      <td>1</td>\n      <td>0</td>\n      <td>0</td>\n      <td>0</td>\n      <td>5</td>\n      <td>9</td>\n      <td>3</td>\n      <td>4</td>\n      <td>2</td>\n      <td>0</td>\n      <td>0</td>\n      <td>90</td>\n      <td>-</td>\n    </tr>\n  </tbody>\n</table>\n</div>"
     },
     "metadata": {},
     "output_type": "display_data"
    }
   ],
   "source": [
    "if debug is True:\n",
    "    display(stats.head())"
   ],
   "metadata": {
    "collapsed": false,
    "pycharm": {
     "name": "#%%\n"
    }
   }
  },
  {
   "cell_type": "code",
   "execution_count": 6,
   "outputs": [],
   "source": [],
   "metadata": {
    "collapsed": false,
    "pycharm": {
     "name": "#%%\n"
    }
   }
  },
  {
   "cell_type": "code",
   "execution_count": 7,
   "outputs": [],
   "source": [
    "def query_player_info(url):\n",
    "\n",
    "    # Crawling Website\n",
    "    url_player= url\n",
    "    # Fake a user header\n",
    "    headers = {'User-Agent': UserAgent().random}\n",
    "\n",
    "    player_datas = requests.get(url=url_player, headers=headers)\n",
    "    html_players = player_datas.text\n",
    "    # For Loop crawling, time interval is demanded.\n",
    "    sleep(0.25)\n",
    "    soup_players = BeautifulSoup(html_players, 'lxml')\n",
    "    c_play_infos = soup_players.find_all('center')\n",
    "\n",
    "    temp_player_info = re.match(r'.*?Born:(\\d*-\\w*-\\d*) \\(Debut.*?Height:(\\d*).*?Weight:(\\d*) kg', c_play_infos[0].text, flags=re.S)\n",
    "\n",
    "    player_dob = temp_player_info.group(1)\n",
    "    player_height = temp_player_info.group(2)\n",
    "    player_weight = temp_player_info.group(3)\n",
    "\n",
    "    return [player_dob, int(player_height), int(player_weight)]\n"
   ],
   "metadata": {
    "collapsed": false,
    "pycharm": {
     "name": "#%%\n"
    }
   }
  },
  {
   "cell_type": "code",
   "execution_count": 8,
   "outputs": [],
   "source": [
    "def query_stats_info(new_stats_data, new_players_data, url, gameid, round, home_team, away_team):\n",
    "\n",
    "    p_data = new_players_data\n",
    "    s_data = new_stats_data\n",
    "\n",
    "    # Crawling Website\n",
    "    url= url\n",
    "    gameid = gameid\n",
    "    round = round\n",
    "\n",
    "    # Fake a user header\n",
    "    headers = {'User-Agent': UserAgent().random}\n",
    "\n",
    "    # query stats data\n",
    "    stats_datas = requests.get(url=url, headers=headers)\n",
    "    html_stats = stats_datas.text\n",
    "\n",
    "    # For Loop crawling, time interval is demanded.\n",
    "    sleep(0.25)\n",
    "\n",
    "    soup_stats = BeautifulSoup(html_stats, 'lxml')\n",
    "    c_stats_tables = soup_stats.find_all('table', attrs={'class' : \"sortable\"})\n",
    "\n",
    "    for i_table in range(0,2):\n",
    "        # each table start here\n",
    "        if i_table == 0:\n",
    "            player_team = home_team\n",
    "        if i_table == 1:\n",
    "            player_team = away_team\n",
    "\n",
    "        table_body = c_stats_tables[i_table].find_all('tbody')\n",
    "        table_rows = table_body[0].find_all('tr')\n",
    "\n",
    "        for table_row in table_rows:\n",
    "            # each row start here\n",
    "\n",
    "            table_columns = table_row.find_all('td')\n",
    "            for p in range(len(table_columns)):\n",
    "                # each column start here\n",
    "                infos = table_columns[p].text\n",
    "                if p != 0 and p != 1:\n",
    "                    if infos == '\\xa0':\n",
    "                        infos = 0\n",
    "\n",
    "                    infos = int(infos)\n",
    "\n",
    "                if p == 0:\n",
    "                    infos =  re.sub(r'\\D', '', infos)\n",
    "                    player_number = int(infos)\n",
    "                    subs = '-'\n",
    "\n",
    "                    table_players_rows = c_stats_tables[i_table+2].find_all('tbody')[0].find_all('tr')\n",
    "                    for table_players_row in table_players_rows:\n",
    "                        table_players_columns = table_players_row.find_all('td')\n",
    "                        if int(table_players_columns[p].text) == player_number:\n",
    "                            gameNumber = re.match(r'(\\d*) \\(', table_players_columns[3].text)[1]\n",
    "                            gameNumber = int(gameNumber)\n",
    "\n",
    "                if p == 1:\n",
    "                    displayName = infos\n",
    "\n",
    "                    name_url = 'https://afltables.com/afl/stats' + table_columns[p].find_all('a', href=True)[0]['href'][5:]\n",
    "                    team_player_info = query_player_info(name_url)\n",
    "                    player_dob = team_player_info[0]\n",
    "                    player_height = team_player_info[1]\n",
    "                    player_weight = team_player_info[2]\n",
    "\n",
    "                    selected_p = p_data[(p_data['displayName'] == displayName) & (p_data['dob'] == player_dob)]\n",
    "\n",
    "                    if selected_p.shape[0] == 0:\n",
    "                        selected_p.at[0, 'playerId'] = int('2022' + str(random.randint(0,999999)).zfill(6))\n",
    "                        selected_p.at[0, 'displayName'] = displayName\n",
    "                        selected_p.at[0, 'height'] = player_height\n",
    "                        selected_p.at[0, 'weight'] = player_weight\n",
    "                        selected_p.at[0, 'dob'] = player_dob\n",
    "                        selected_p.at[0, 'position'] = 'To_be_insert_manually'\n",
    "                        selected_p.at[0, 'origin'] = 'To_be_insert_manually'\n",
    "                        p_data = pd.concat([selected_p, p_data])\n",
    "\n",
    "                    playerId = selected_p['playerId'].iloc[0]\n",
    "\n",
    "                if p == 2:\n",
    "                    Kicks = infos\n",
    "                if p == 3:\n",
    "                    Marks = infos\n",
    "                if p == 4:\n",
    "                    Handballs = infos\n",
    "                if p == 5:\n",
    "                    Disposals = infos\n",
    "                if p == 6:\n",
    "                    Goals = infos\n",
    "                if p == 7:\n",
    "                    Behinds = infos\n",
    "                if p == 8:\n",
    "                    Hit_Outs = infos\n",
    "                if p == 9:\n",
    "                    Tackles = infos\n",
    "                if p == 10:\n",
    "                    Rebounds = infos\n",
    "                if p == 11:\n",
    "                    Inside_50s = infos\n",
    "                if p == 12:\n",
    "                    Clearances = infos\n",
    "                if p == 13:\n",
    "                    Clangers = infos\n",
    "                if p == 14:\n",
    "                    Frees = infos\n",
    "                if p == 15:\n",
    "                    Frees_Against = infos\n",
    "                if p == 16:\n",
    "                    Brownlow_Votes = infos\n",
    "                if p == 17:\n",
    "                    Contested_Possessions = infos\n",
    "                if p == 18:\n",
    "                    Uncontested_Possessions = infos\n",
    "                if p == 19:\n",
    "                    Contested_Marks = infos\n",
    "                if p == 20:\n",
    "                    Marks_Inside_50 = infos\n",
    "                if p == 21:\n",
    "                    One_Percenters = infos\n",
    "                if p == 22:\n",
    "                    Bounces = infos\n",
    "                if p == 23:\n",
    "                    Goal_Assists = infos\n",
    "                if p == 24:\n",
    "                    p_Played = infos\n",
    "\n",
    "            temp_stats_row = pd.DataFrame()\n",
    "            temp_stats_row.at[0, 'gameId'] = gameid\n",
    "            temp_stats_row.at[0, 'team'] = player_team\n",
    "            temp_stats_row.at[0, 'year'] = 2022\n",
    "            temp_stats_row.at[0, 'round'] = round\n",
    "            temp_stats_row.at[0, 'playerId'] = playerId\n",
    "            temp_stats_row.at[0, 'displayName'] = displayName\n",
    "            temp_stats_row.at[0, 'gameNumber'] = gameNumber\n",
    "            temp_stats_row.at[0, 'Disposals'] = Disposals\n",
    "            temp_stats_row.at[0, 'Kicks'] = Kicks\n",
    "            temp_stats_row.at[0, 'Marks'] = Marks\n",
    "            temp_stats_row.at[0, 'Handballs'] = Handballs\n",
    "            temp_stats_row.at[0, 'Goals'] = Goals\n",
    "            temp_stats_row.at[0, 'Behinds'] = Behinds\n",
    "            temp_stats_row.at[0, 'Hit Outs'] = Hit_Outs\n",
    "            temp_stats_row.at[0, 'Tackles'] = Tackles\n",
    "            temp_stats_row.at[0, 'Rebounds'] = Rebounds\n",
    "            temp_stats_row.at[0, 'Inside 50s'] = Inside_50s\n",
    "            temp_stats_row.at[0, 'Clearances'] = Clearances\n",
    "            temp_stats_row.at[0, 'Clangers'] = Clangers\n",
    "            temp_stats_row.at[0, 'Frees'] = Frees\n",
    "            temp_stats_row.at[0, 'Frees Against'] = Frees_Against\n",
    "            temp_stats_row.at[0, 'Brownlow Votes'] = Brownlow_Votes\n",
    "            temp_stats_row.at[0, 'Contested Possessions'] = Contested_Possessions\n",
    "            temp_stats_row.at[0, 'Uncontested Possessions'] = Uncontested_Possessions\n",
    "            temp_stats_row.at[0, 'Contested Marks'] = Contested_Marks\n",
    "            temp_stats_row.at[0, 'Marks Inside 50'] = Marks_Inside_50\n",
    "            temp_stats_row.at[0, 'One Percenters'] = One_Percenters\n",
    "            temp_stats_row.at[0, 'Bounces'] = Bounces\n",
    "            temp_stats_row.at[0, 'Goal Assists'] = Goal_Assists\n",
    "            temp_stats_row.at[0, '% Played'] = p_Played\n",
    "            temp_stats_row.at[0, 'Subs'] = '-'\n",
    "            s_data = pd.concat([temp_stats_row, s_data])\n",
    "\n",
    "    return s_data, p_data\n"
   ],
   "metadata": {
    "collapsed": false,
    "pycharm": {
     "name": "#%%\n"
    }
   }
  },
  {
   "cell_type": "code",
   "execution_count": 9,
   "outputs": [],
   "source": [
    "def query_games_info(new_stats_data, new_players_data, new_games_data, crawl_range_start_round, crawl_range_end_round):\n",
    "\n",
    "    # compile Re\n",
    "    re_date_time_venue = re.compile(r'\\w* (\\d*-\\w*-\\d*) (\\d*:\\d*\\s\\w*) .*?Venue: (.*)')\n",
    "    re_att = re.compile(r'Att: \\d*,*\\d*')\n",
    "    re_find_player_info = re.compile(r'.*?Born:(\\d*-\\w*-\\d*) \\(Debut.*?Height:(\\d*).*?Weight:(\\d*) kg')\n",
    "\n",
    "    # Crawling Website\n",
    "    url='https://afltables.com/afl/seas/2022.html'\n",
    "    # Fake a user header\n",
    "    headers = {'User-Agent': UserAgent().random}\n",
    "\n",
    "    # Request the data\n",
    "    datas = requests.get(url=url, headers=headers)\n",
    "    html = datas.text\n",
    "\n",
    "    # For Loop crawling, time interval is demanded.\n",
    "    sleep(1)\n",
    "\n",
    "    soup = BeautifulSoup(html, 'lxml')\n",
    "    c_games = soup.find_all('table', attrs={'style':'font: 12px Verdana;', 'width':\"100%\", 'border':\"1\"})\n",
    "\n",
    "    # each i is a table\n",
    "    for i in tqdm(range(crawl_range_start_round, crawl_range_end_round * 10)):\n",
    "\n",
    "        if i % 10 != 9:\n",
    "\n",
    "            tables = c_games[i].find_all('td')\n",
    "\n",
    "            r = i // 10 + 1\n",
    "            id = i % 10 + 1\n",
    "\n",
    "            gameid = '2022R' + str(r) + '0' + str(id)\n",
    "            year = 2022\n",
    "            round = 'R' + str(r)\n",
    "\n",
    "            for j in range(len(tables)):\n",
    "\n",
    "                if j == 0:\n",
    "                    home_team = tables[j].text\n",
    "                    home_team_index = 'https://afltables.com/afl' + tables[j].find_all('a', href=True)[0]['href'][2:]\n",
    "\n",
    "                if j == 2:\n",
    "                    home_team_score = int(tables[j].text)\n",
    "\n",
    "                if j == 3:\n",
    "                    temp = re_date_time_venue.match(tables[j].text)\n",
    "                    date = temp.group(1)\n",
    "                    venue = temp.group(3)\n",
    "                    start_time = temp.group(2)\n",
    "\n",
    "                    attendance = re_att.findall(tables[j].text)\n",
    "                    if not attendance:\n",
    "                        attendance = ['0']\n",
    "                    attendance = re.sub(r'\\D', '', attendance[0])\n",
    "                    attendance = int(attendance)\n",
    "\n",
    "                if j == 4:\n",
    "                    away_team = tables[j].text\n",
    "                    away_team_index = 'https://afltables.com/afl' + tables[j].find_all('a', href=True)[0]['href'][2:]\n",
    "\n",
    "                if j == 6:\n",
    "                    away_team_score = int(tables[j].text)\n",
    "\n",
    "                if j == 7:\n",
    "                    stats_link = 'https://afltables.com/afl' + tables[j].find_all('a', href=True)[0]['href'][2:]\n",
    "                    new_stats_data, new_players_data = query_stats_info(new_stats_data, new_players_data, stats_link, gameid, round, home_team, away_team)\n",
    "\n",
    "            rainfall = 0\n",
    "\n",
    "            temp_games_row = pd.DataFrame()\n",
    "            temp_games_row.at[0, 'gameId'] = gameid\n",
    "            temp_games_row.at[0, 'year'] = year\n",
    "            temp_games_row.at[0, 'round'] = round\n",
    "            temp_games_row.at[0, 'date'] = date\n",
    "            temp_games_row.at[0, 'venue'] = venue\n",
    "            temp_games_row.at[0, 'startTime'] = start_time\n",
    "            temp_games_row.at[0, 'attendance'] = attendance\n",
    "            temp_games_row.at[0, 'homeTeam'] = home_team\n",
    "            temp_games_row.at[0, 'homeTeamScore'] = home_team_score\n",
    "            temp_games_row.at[0, 'awayTeam'] = away_team\n",
    "            temp_games_row.at[0, 'awayTeamScore'] = away_team_score\n",
    "            temp_games_row.at[0, 'rainfall'] = rainfall\n",
    "            new_games_data = pd.concat([temp_games_row, new_games_data])\n",
    "\n",
    "\n",
    "    return new_stats_data, new_players_data, new_games_data\n"
   ],
   "metadata": {
    "collapsed": false,
    "pycharm": {
     "name": "#%%\n"
    }
   }
  },
  {
   "cell_type": "code",
   "execution_count": 10,
   "outputs": [],
   "source": [
    "new_players_data = players.copy()\n",
    "new_stats_data = stats.copy()\n",
    "new_games_data= games.copy()"
   ],
   "metadata": {
    "collapsed": false,
    "pycharm": {
     "name": "#%%\n"
    }
   }
  },
  {
   "cell_type": "code",
   "execution_count": 11,
   "outputs": [
    {
     "name": "stderr",
     "output_type": "stream",
     "text": [
      "100%|██████████| 30/30 [12:17<00:00, 24.58s/it]\n"
     ]
    }
   ],
   "source": [
    "new_stats_data, new_players_data, new_games_data = query_games_info(new_stats_data, new_players_data, new_games_data, 0,3)"
   ],
   "metadata": {
    "collapsed": false,
    "pycharm": {
     "name": "#%%\n"
    }
   }
  },
  {
   "cell_type": "code",
   "execution_count": 17,
   "outputs": [],
   "source": [
    "new_stats_data.to_csv('./output/stats.csv', index=False)\n",
    "new_players_data.to_csv('./output/players.csv', index=False)\n",
    "new_games_data.to_csv('./output/games.csv', index=False)"
   ],
   "metadata": {
    "collapsed": false,
    "pycharm": {
     "name": "#%%\n"
    }
   }
  },
  {
   "cell_type": "code",
   "execution_count": 11,
   "outputs": [],
   "source": [],
   "metadata": {
    "collapsed": false,
    "pycharm": {
     "name": "#%%\n"
    }
   }
  },
  {
   "cell_type": "code",
   "execution_count": 11,
   "outputs": [],
   "source": [],
   "metadata": {
    "collapsed": false,
    "pycharm": {
     "name": "#%%\n"
    }
   }
  },
  {
   "cell_type": "code",
   "execution_count": 71,
   "outputs": [],
   "source": [],
   "metadata": {
    "collapsed": false,
    "pycharm": {
     "name": "#%%\n"
    }
   }
  },
  {
   "cell_type": "code",
   "execution_count": 71,
   "outputs": [],
   "source": [],
   "metadata": {
    "collapsed": false,
    "pycharm": {
     "name": "#%%\n"
    }
   }
  },
  {
   "cell_type": "code",
   "execution_count": 71,
   "outputs": [],
   "source": [],
   "metadata": {
    "collapsed": false,
    "pycharm": {
     "name": "#%%\n"
    }
   }
  },
  {
   "cell_type": "code",
   "execution_count": 11,
   "outputs": [],
   "source": [],
   "metadata": {
    "collapsed": false,
    "pycharm": {
     "name": "#%%\n"
    }
   }
  },
  {
   "cell_type": "code",
   "execution_count": 71,
   "outputs": [],
   "source": [],
   "metadata": {
    "collapsed": false,
    "pycharm": {
     "name": "#%%\n"
    }
   }
  },
  {
   "cell_type": "code",
   "execution_count": 11,
   "outputs": [],
   "source": [],
   "metadata": {
    "collapsed": false,
    "pycharm": {
     "name": "#%%\n"
    }
   }
  },
  {
   "cell_type": "code",
   "execution_count": 12,
   "metadata": {
    "pycharm": {
     "name": "#%%\n"
    }
   },
   "outputs": [
    {
     "data": {
      "text/plain": "\"# m = re.match(r'\\\\w* (\\\\d*\\\\-\\\\w*\\\\-\\\\d*) (\\\\d*\\\\:\\\\d*\\\\s\\\\w*) \\\\w*\\\\: (\\\\d*\\\\,\\\\d*) \\\\w*\\\\: (.*)', 'Wed 16-Mar-2022 7:10 PM Att: 58,002 Venue: M.C.G.')\\n\\nm = re.match(r'\\\\w* (\\\\d*-\\\\w*-\\\\d*) (\\\\d*:\\\\d*\\\\s\\\\w*) .*?Venue: (.*)', 'Wed 16-Mar-2022 7:10 PM Att: 58,002 Venue: M.C.G.')\\n\\n'Sun 03-Apr-2022 4:20 PM (6:20 PM) Venue: Perth Stadium'\\n\\n'Sun 20-Mar-2022 4:40 PM (6:40 PM) Att: 20,932 Venue: Perth Stadium'\\n# m = re_date_time_att_venue.match('Wed 16-Mar-2022 7:10 PM Att: 58,002 Venue: M.C.G.')\\n\\n\\nre_att = re.compile(r'Att: \\\\d*,*\\\\d*')\\n\\nnn = re_att.findall('Sun 20-Mar-2022 4:40 PM (6:40 PM) Att: 20,932 Venue: Perth Stadium')\\nif not nn:\\n    nn = ['0']\\nnn = re.sub(r'\\\\D', '', nn[0])\\nnn = int(nn)\\n\\n# nn = re.findall(r'Att: \\\\d*,*\\\\d*', 'Sun 03-Apr-2022 4:20 PM (6:20 PM) Venue: Perth Stadium')\\n\\n\\nprint(m)\\nprint(m.group(1))\\nprint(m.group(2))\\n\\n\\n# n = m.group(3)\\n# n = re.sub(r'\\\\D', '', n)\\n\\n\\n# print(n)\\nprint(m.group(3))\\n\\nprint(nn)\""
     },
     "execution_count": 12,
     "metadata": {},
     "output_type": "execute_result"
    }
   ],
   "source": [
    "'''# m = re.match(r'\\w* (\\d*\\-\\w*\\-\\d*) (\\d*\\:\\d*\\s\\w*) \\w*\\: (\\d*\\,\\d*) \\w*\\: (.*)', 'Wed 16-Mar-2022 7:10 PM Att: 58,002 Venue: M.C.G.')\n",
    "\n",
    "m = re.match(r'\\w* (\\d*-\\w*-\\d*) (\\d*:\\d*\\s\\w*) .*?Venue: (.*)', 'Wed 16-Mar-2022 7:10 PM Att: 58,002 Venue: M.C.G.')\n",
    "\n",
    "'Sun 03-Apr-2022 4:20 PM (6:20 PM) Venue: Perth Stadium'\n",
    "\n",
    "'Sun 20-Mar-2022 4:40 PM (6:40 PM) Att: 20,932 Venue: Perth Stadium'\n",
    "# m = re_date_time_att_venue.match('Wed 16-Mar-2022 7:10 PM Att: 58,002 Venue: M.C.G.')\n",
    "\n",
    "\n",
    "re_att = re.compile(r'Att: \\d*,*\\d*')\n",
    "\n",
    "nn = re_att.findall('Sun 20-Mar-2022 4:40 PM (6:40 PM) Att: 20,932 Venue: Perth Stadium')\n",
    "if not nn:\n",
    "    nn = ['0']\n",
    "nn = re.sub(r'\\D', '', nn[0])\n",
    "nn = int(nn)\n",
    "\n",
    "# nn = re.findall(r'Att: \\d*,*\\d*', 'Sun 03-Apr-2022 4:20 PM (6:20 PM) Venue: Perth Stadium')\n",
    "\n",
    "\n",
    "print(m)\n",
    "print(m.group(1))\n",
    "print(m.group(2))\n",
    "\n",
    "\n",
    "# n = m.group(3)\n",
    "# n = re.sub(r'\\D', '', n)\n",
    "\n",
    "\n",
    "# print(n)\n",
    "print(m.group(3))\n",
    "\n",
    "print(nn)'''"
   ]
  }
 ],
 "metadata": {
  "kernelspec": {
   "display_name": "Python 3 (ipykernel)",
   "language": "python",
   "name": "python3"
  },
  "language_info": {
   "codemirror_mode": {
    "name": "ipython",
    "version": 3
   },
   "file_extension": ".py",
   "mimetype": "text/x-python",
   "name": "python",
   "nbconvert_exporter": "python",
   "pygments_lexer": "ipython3",
   "version": "3.8.10"
  }
 },
 "nbformat": 4,
 "nbformat_minor": 1
}